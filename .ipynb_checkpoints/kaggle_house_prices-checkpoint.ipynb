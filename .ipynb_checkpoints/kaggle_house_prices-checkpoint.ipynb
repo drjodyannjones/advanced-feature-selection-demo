{
 "cells": [
  {
   "cell_type": "markdown",
   "id": "0f029c3b",
   "metadata": {},
   "source": [
    "# Kaggle House Prices Prediction Project"
   ]
  },
  {
   "cell_type": "markdown",
   "id": "4c47d7bb",
   "metadata": {},
   "source": [
    "## 1. Project Setup"
   ]
  },
  {
   "cell_type": "markdown",
   "id": "eec5c8cd",
   "metadata": {},
   "source": [
    "### 1.1. Environment Setup"
   ]
  },
  {
   "cell_type": "markdown",
   "id": "b57f6e86",
   "metadata": {},
   "source": [
    "### 1.2. Dataset Download & Exploration"
   ]
  },
  {
   "cell_type": "markdown",
   "id": "c3ffb42a",
   "metadata": {},
   "source": [
    "## 2. Data Preparation"
   ]
  },
  {
   "cell_type": "markdown",
   "id": "465b31dd",
   "metadata": {},
   "source": [
    "### 2.1. Data Splitting"
   ]
  },
  {
   "cell_type": "markdown",
   "id": "303bd0b5",
   "metadata": {},
   "source": [
    "### 2.2. Data Preprocessing"
   ]
  },
  {
   "cell_type": "markdown",
   "id": "135bce97",
   "metadata": {},
   "source": [
    "## 3. Feature Engineering"
   ]
  },
  {
   "cell_type": "markdown",
   "id": "8c2c2c0c",
   "metadata": {},
   "source": [
    "### 3.1. Create Feature Engineering Module"
   ]
  },
  {
   "cell_type": "markdown",
   "id": "8df99d5e",
   "metadata": {},
   "source": [
    "### 3.2. Feature Selection"
   ]
  },
  {
   "cell_type": "markdown",
   "id": "3702b376",
   "metadata": {},
   "source": [
    "## 4. Model Building"
   ]
  },
  {
   "cell_type": "markdown",
   "id": "c68ee90a",
   "metadata": {},
   "source": [
    "### 4.1. Model Training"
   ]
  },
  {
   "cell_type": "markdown",
   "id": "5282d557",
   "metadata": {},
   "source": [
    "### 4.2. Feature Importance Extraction"
   ]
  },
  {
   "cell_type": "markdown",
   "id": "daf5494e",
   "metadata": {},
   "source": [
    "## 5. Evaluation"
   ]
  },
  {
   "cell_type": "markdown",
   "id": "e98053e4",
   "metadata": {},
   "source": [
    "### 5.1. Holdout Evaluation"
   ]
  },
  {
   "cell_type": "markdown",
   "id": "6cf9fb24",
   "metadata": {},
   "source": [
    "## 6. Reporting & Deliverable"
   ]
  },
  {
   "cell_type": "markdown",
   "id": "a74ab291",
   "metadata": {},
   "source": [
    "### 6.1. Results Reporting"
   ]
  },
  {
   "cell_type": "markdown",
   "id": "9ac4e0e4",
   "metadata": {},
   "source": [
    "### 6.2. Code Refactoring"
   ]
  },
  {
   "cell_type": "markdown",
   "id": "410e2597",
   "metadata": {},
   "source": [
    "### 6.3. Submission"
   ]
  },
  {
   "cell_type": "markdown",
   "id": "35d30a79",
   "metadata": {},
   "source": [
    "## 7. Cost Management"
   ]
  },
  {
   "cell_type": "markdown",
   "id": "428457fb",
   "metadata": {},
   "source": [
    "### 7.1. Google Colab Compute"
   ]
  }
 ],
 "metadata": {},
 "nbformat": 4,
 "nbformat_minor": 5
}
